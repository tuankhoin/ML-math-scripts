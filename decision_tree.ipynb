{
 "cells": [
  {
   "cell_type": "code",
   "execution_count": 21,
   "id": "complex-australia",
   "metadata": {},
   "outputs": [],
   "source": [
    "import numpy as np\n",
    "import math\n",
    "from tabulate import tabulate"
   ]
  },
  {
   "cell_type": "code",
   "execution_count": 18,
   "id": "descending-candy",
   "metadata": {},
   "outputs": [],
   "source": [
    "def entropy(ps, i = ''):\n",
    "    #print('H'+i+' = ' + ' + '.join([f'-{p}*log2({p})' for p in ps]))\n",
    "    es = [0 if not p else -p*math.log2(p) for p in ps]\n",
    "    entr = np.sum(es)\n",
    "    print('H'+i+' = ' + ' + '.join([f'-{p}*log2({p})' for p in ps]) + f'= {entr:.4g}')\n",
    "\n",
    "    #print('= ' + ' + '.join([f'{e:.4g}' for e in es]) + f' = {entr:.4g}')\n",
    "    return entr\n",
    "\n",
    "def info_gain(p_class, p_features_class, feature_value, p_feature, feature_name, class_name):   \n",
    "    text = 'MI' + '(' + feature_name + ') = '\n",
    "    mean_info = 0\n",
    "    entropy_class = entropy(p_class, '(' + class_name + ')')\n",
    "    for i in range(len(feature_value)):\n",
    "        mean_info += p_feature[i] * entropy(p_features_class[i], '(' + feature_name + '==' + feature_value[i] + ')')\n",
    "        text += ('+ P(' if i else 'P(') + feature_name + '==' + feature_value[i] + ')*H(' + feature_name + '==' + feature_value[i] + ')'\n",
    "    print(f'{text} = {mean_info:.4g} ')\n",
    "    print(f'IG({feature_name}|{class_name}) = H({class_name}) - MI'+'(' + feature_name + ')'+f' = {entropy_class - mean_info:.4g}\\n')\n",
    "    return entropy_class - mean_info\n",
    "\n",
    "def gain_ratio(info_gain, p_feature, feature_name, class_name):\n",
    "    entropy_class = entropy(p_feature, '(' + feature_name + ')')\n",
    "    print(f'GR({feature_name}|{class_name}) = IG({feature_name}|{class_name})/H({feature_name}) = {info_gain/entropy_class: .4g}')\n",
    "    return \n",
    "    "
   ]
  },
  {
   "cell_type": "code",
   "execution_count": 20,
   "id": "invisible-control",
   "metadata": {},
   "outputs": [
    {
     "output_type": "stream",
     "name": "stdout",
     "text": [
      "H(Class) = -0.5*log2(0.5) + -0.5*log2(0.5)= 1\nH(A1==True) = -0.4*log2(0.4) + -0.6*log2(0.6)= 0.971\nH(A1==False) = -0.6*log2(0.6) + -0.4*log2(0.4)= 0.971\nMI(A1) = P(A1==True)*H(A1==True)+ P(A1==False)*H(A1==False) = 0.971 \nIG(A1|Class) = H(Class) - MI(A1) = 0.02905\n\nH(A1) = -0.5*log2(0.5) + -0.5*log2(0.5)= 1\nGR(A1|Class) = IG(A1|Class)/H(A1) =  0.02905\n"
     ]
    }
   ],
   "source": [
    "\"\"\"Testing example from past exam _ 2020\"\"\"\n",
    "\n",
    "p_class = [0.5, 0.5]\n",
    "p_features_class = [[0.4, 0.6], [0.6, 0.4]]\n",
    "feature_name = 'A1'\n",
    "class_name = 'Class'\n",
    "feature_value = ['True', 'False']\n",
    "\n",
    "p_feature = [0.5,0.5]\n",
    "\n",
    "ig = info_gain(p_class, p_features_class, feature_value, p_feature, feature_name, class_name)\n",
    "\n",
    "gain_ratio(ig, p_feature, feature_name, class_name)"
   ]
  },
  {
   "cell_type": "code",
   "execution_count": 100,
   "id": "toxic-chile",
   "metadata": {},
   "outputs": [],
   "source": [
    "def chi_sq(observed_table, f='Feature',fval=['T', 'F'], cl='Class', cval=['T','F']):\n",
    "    l = len(observed_table)\n",
    "    print(f'Feature: {f}\\n')\n",
    "    print(f'Observed table =')\n",
    "    table(observed_table,f,fval,cl,cval)\n",
    "    #print(tabulate(observed_table, headers=[f+'=='+v for v in fval], showindex=[cl+'=='+v for v in cval], tablefmt='orgtbl'))\n",
    "    sum_row = []\n",
    "    sum_col = []\n",
    "    \n",
    "    for row in observed_table:\n",
    "        sum_row.append(sum(row))\n",
    "\n",
    "    for col in range(len(observed_table[0])):\n",
    "        sum_curr_col = 0\n",
    "        for row in observed_table:\n",
    "            sum_curr_col += row[col]\n",
    "        sum_col.append(sum_curr_col)\n",
    "    \n",
    "    num_instances = sum(sum_row)\n",
    "    \n",
    "    def exp(sum_1, sum_2, sum_all = num_instances, i =''):\n",
    "        res = sum_1*sum_2/sum_all\n",
    "        print(f'E{i} = {sum_1}*{sum_2}/{sum_all} = {res}')\n",
    "        return res\n",
    "\n",
    "    expected_table = [[exp(sum_row[i], sum_col[j], i=f'{i+1}{j+1}') for j in range(l)] for i in range(l)]\n",
    "    print(f'\\nExpected table =')\n",
    "    table(expected_table,f,fval,cl,cval)\n",
    "    \n",
    "    chi = 0\n",
    "    text = ''\n",
    "    for i in range(len(observed_table)):\n",
    "        for j in range(len(observed_table[0])):\n",
    "            text += f' + ({observed_table[i][j]} - {expected_table[i][j]})^2/{expected_table[i][j]}'\n",
    "            chi += (observed_table[i][j] - expected_table[i][j])**2/expected_table[i][j]\n",
    "\n",
    "    print(f'Chi2({f}) = {text} = {chi}')\n",
    "\n",
    "def table(ot,f,fval,cl,cval):\n",
    "    mod = np.array([np.append(r,[np.sum(r)]) for r in ot])\n",
    "    mod_full = np.append(mod,[[np.sum(mod[:,i]) for i in range(len(ot)+1)]],axis=0)\n",
    "    print(tabulate(mod_full, headers=[f+'=='+v for v in fval]+['Total'], showindex=[cl+'=='+v for v in cval]+['Total'], tablefmt='pretty'))"
   ]
  },
  {
   "cell_type": "code",
   "execution_count": 101,
   "id": "subtle-frank",
   "metadata": {},
   "outputs": [
    {
     "output_type": "stream",
     "name": "stdout",
     "text": [
      "Feature: A1\n\nObserved table =\n+------------+-------+-------+-------+\n|            | A1==T | A1==F | Total |\n+------------+-------+-------+-------+\n| Class==(+) |   2   |   3   |   5   |\n| Class==(-) |   3   |   2   |   5   |\n|   Total    |   5   |   5   |  10   |\n+------------+-------+-------+-------+\nE11 = 5*5/10 = 2.5\nE12 = 5*5/10 = 2.5\nE21 = 5*5/10 = 2.5\nE22 = 5*5/10 = 2.5\n\nExpected table =\n+------------+-------+-------+-------+\n|            | A1==T | A1==F | Total |\n+------------+-------+-------+-------+\n| Class==(+) |  2.5  |  2.5  |  5.0  |\n| Class==(-) |  2.5  |  2.5  |  5.0  |\n|   Total    |  5.0  |  5.0  | 10.0  |\n+------------+-------+-------+-------+\nChi2(A1) =  + (2 - 2.5)^2/2.5 + (3 - 2.5)^2/2.5 + (3 - 2.5)^2/2.5 + (2 - 2.5)^2/2.5 = 0.4\n"
     ]
    }
   ],
   "source": [
    "\"\"\"Chi square\"\"\"\n",
    "\n",
    "observed_table = np.array([[2, 3], # first class\n",
    "                           [3, 2] # second class\n",
    "                           ])\n",
    "\n",
    "chi_sq(observed_table,'A1',['T','F'],'Class',['(+)','(-)'])"
   ]
  },
  {
   "cell_type": "code",
   "execution_count": 102,
   "id": "gorgeous-shirt",
   "metadata": {},
   "outputs": [
    {
     "output_type": "stream",
     "name": "stdout",
     "text": [
      "Feature: A3\n\nObserved table =\n+------------+-------+-------+-------+\n|            | A3==T | A3==F | Total |\n+------------+-------+-------+-------+\n| Class==(+) |   2   |   3   |   5   |\n| Class==(-) |   2   |   3   |   5   |\n|   Total    |   4   |   6   |  10   |\n+------------+-------+-------+-------+\nE11 = 5*4/10 = 2.0\nE12 = 5*6/10 = 3.0\nE21 = 5*4/10 = 2.0\nE22 = 5*6/10 = 3.0\n\nExpected table =\n+------------+-------+-------+-------+\n|            | A3==T | A3==F | Total |\n+------------+-------+-------+-------+\n| Class==(+) |  2.0  |  3.0  |  5.0  |\n| Class==(-) |  2.0  |  3.0  |  5.0  |\n|   Total    |  4.0  |  6.0  | 10.0  |\n+------------+-------+-------+-------+\nChi2(A3) =  + (2 - 2.0)^2/2.0 + (3 - 3.0)^2/3.0 + (2 - 2.0)^2/2.0 + (3 - 3.0)^2/3.0 = 0.0\n"
     ]
    }
   ],
   "source": [
    "\"\"\"Chi square\"\"\"\n",
    "\n",
    "observed_table = np.array([[2, 3], # first class\n",
    "                           [2, 3] # second class\n",
    "                           ])\n",
    "\n",
    "chi_sq(observed_table,'A3',['T','F'],'Class',['(+)','(-)'])"
   ]
  }
 ],
 "metadata": {
  "kernelspec": {
   "name": "python368jvsc74a57bd04621005da5c26ac209901ca167bf25025457b064ec855aea9ba97365ac8d4984",
   "display_name": "Python 3.6.8 64-bit"
  },
  "language_info": {
   "codemirror_mode": {
    "name": "ipython",
    "version": 3
   },
   "file_extension": ".py",
   "mimetype": "text/x-python",
   "name": "python",
   "nbconvert_exporter": "python",
   "pygments_lexer": "ipython3",
   "version": "3.6.8"
  }
 },
 "nbformat": 4,
 "nbformat_minor": 5
}