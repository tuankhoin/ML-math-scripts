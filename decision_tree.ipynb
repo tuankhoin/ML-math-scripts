{
 "cells": [
  {
   "cell_type": "code",
   "execution_count": 7,
   "id": "complex-australia",
   "metadata": {},
   "outputs": [],
   "source": [
    "import numpy as np\n",
    "import math"
   ]
  },
  {
   "cell_type": "code",
   "execution_count": 8,
   "id": "descending-candy",
   "metadata": {},
   "outputs": [],
   "source": [
    "def entropy(ps, i = ''):\n",
    "    #print('H'+i+' = ' + ' + '.join([f'-{p}*log2({p})' for p in ps]))\n",
    "    es = [0 if not p else -p*math.log2(p) for p in ps]\n",
    "    entr = np.sum(es)\n",
    "    print('H'+i+' = ' + ' + '.join([f'-{p}*log2({p})' for p in ps]) + f'= {entr:.4g}')\n",
    "\n",
    "    #print('= ' + ' + '.join([f'{e:.4g}' for e in es]) + f' = {entr:.4g}')\n",
    "    return entr\n",
    "\n",
    "def info_gain(p_class, p_features_class, feature_value, p_feature, feature_name, class_name):   \n",
    "    text = 'MeanInfo' + '(' + feature_name + ') = '\n",
    "    mean_info = 0\n",
    "    entropy_class = entropy(p_class, '(' + class_name + ')')\n",
    "    for i in range(len(feature_value)):\n",
    "        mean_info += p_feature[i] * entropy(p_features_class[i], '(' + feature_value[i] + ')')\n",
    "        text += ('+ P(' if i else 'P(') + feature_value[i] + ')*H(' + feature_value[i] + ') '\n",
    "    print(f'{text} = {mean_info:.4g} ')\n",
    "    print(f'IG({feature_name}|{class_name}) = H({class_name}) - MeanInfo = {entropy_class - mean_info:.4g}\\n')\n",
    "    return entropy_class - mean_info\n",
    "\n",
    "def gain_ratio(info_gain, p_feature, feature_name, class_name):\n",
    "    entropy_class = entropy(p_feature, '(' + feature_name + ')')\n",
    "    print(f'GR({feature_name}|{class_name}) = IG({feature_name}|{class_name})/H({feature_name}) = {info_gain/entropy_class: .4g}')\n",
    "    return \n",
    "    "
   ]
  },
  {
   "cell_type": "code",
   "execution_count": 9,
   "id": "invisible-control",
   "metadata": {},
   "outputs": [
    {
     "output_type": "stream",
     "name": "stdout",
     "text": [
      "H(Play) = -0.5*log2(0.5) + -0.5*log2(0.5)= 1\nH(True) = -0.4*log2(0.4) + -0.6*log2(0.6)= 0.971\nH(False) = -0.6*log2(0.6) + -0.4*log2(0.4)= 0.971\nMeanInfo(A1) = P(True)*H(True) + P(False)*H(False)  = 0.971 \nIG(A1|Play) = H(Play) - MeanInfo = 0.02905\n\nH(A1) = -0.5*log2(0.5) + -0.5*log2(0.5)= 1\nGR(A1|Play) = IG(A1|Play)/H(A1) =  0.02905\n"
     ]
    }
   ],
   "source": [
    "\"\"\"Testing example from past exam _ 2020\"\"\"\n",
    "\n",
    "p_class = [0.5, 0.5]\n",
    "p_features_class = [[0.4, 0.6], [0.6, 0.4]]\n",
    "feature_name = 'A1'\n",
    "class_name = 'Play'\n",
    "feature_value = ['True', 'False']#, 'True', 'True', 'False', 'False', 'True','True','False']\n",
    "\n",
    "p_feature = [0.5,0.5]\n",
    "\n",
    "ig = info_gain(p_class, p_features_class, feature_value, p_feature, feature_name, class_name)\n",
    "\n",
    "gain_ratio(ig, p_feature, feature_name, class_name)"
   ]
  },
  {
   "cell_type": "code",
   "execution_count": 10,
   "id": "toxic-chile",
   "metadata": {},
   "outputs": [],
   "source": [
    "def chi_sq(observed_table):\n",
    "    print(f'Observed table = {observed_table}')\n",
    "    sum_row = []\n",
    "    sum_col = []\n",
    "    \n",
    "    for row in observed_table:\n",
    "        sum_row.append(sum(row))\n",
    "\n",
    "    for col in range(len(observed_table[0])):\n",
    "        sum_curr_col = 0\n",
    "        for row in observed_table:\n",
    "            sum_curr_col += row[col]\n",
    "        sum_col.append(sum_curr_col)\n",
    "    \n",
    "    num_instances = sum(sum_row)\n",
    "    \n",
    "    def exp(sum_1, sum_2, sum_all = num_instances):\n",
    "        return sum_1*sum_2/sum_all\n",
    "    \n",
    "    expected_table = [[exp(sum_row[0], sum_col[0]), exp(sum_row[0], sum_col[1])],\n",
    "                      [exp(sum_row[1], sum_col[0]), exp(sum_row[1], sum_col[1])]]\n",
    "    print(f'Expected table =  {expected_table}')\n",
    "    \n",
    "    chi = 0\n",
    "    text = ''\n",
    "    for i in range(len(observed_table)):\n",
    "        for j in range(len(observed_table[0])):\n",
    "            text += f' + ({observed_table[i][j]} - {expected_table[i][j]})^2/{expected_table[i][j]}'\n",
    "            chi += (observed_table[i][j] - expected_table[i][j])**2/expected_table[i][j]\n",
    "\n",
    "    print(f'Chi squared = {text} = {chi}')"
   ]
  },
  {
   "cell_type": "code",
   "execution_count": 11,
   "id": "subtle-frank",
   "metadata": {},
   "outputs": [
    {
     "output_type": "stream",
     "name": "stdout",
     "text": [
      "Observed table = [[3, 2], [2, 3]]\nExpected table =  [[2.5, 2.5], [2.5, 2.5]]\nChi squared =  + (3 - 2.5)^2/2.5 + (2 - 2.5)^2/2.5 + (2 - 2.5)^2/2.5 + (3 - 2.5)^2/2.5 = 0.4\n"
     ]
    }
   ],
   "source": [
    "\"\"\"Chi square\"\"\"\n",
    "\n",
    "observed_table = [[3, 2], # first class\n",
    "              [2, 3] # second class\n",
    "              ]\n",
    "\n",
    "chi_sq(observed_table)"
   ]
  },
  {
   "cell_type": "code",
   "execution_count": null,
   "id": "gorgeous-shirt",
   "metadata": {},
   "outputs": [],
   "source": []
  }
 ],
 "metadata": {
  "kernelspec": {
   "name": "python368jvsc74a57bd04621005da5c26ac209901ca167bf25025457b064ec855aea9ba97365ac8d4984",
   "display_name": "Python 3.6.8 64-bit"
  },
  "language_info": {
   "codemirror_mode": {
    "name": "ipython",
    "version": 3
   },
   "file_extension": ".py",
   "mimetype": "text/x-python",
   "name": "python",
   "nbconvert_exporter": "python",
   "pygments_lexer": "ipython3",
   "version": "3.6.8"
  }
 },
 "nbformat": 4,
 "nbformat_minor": 5
}