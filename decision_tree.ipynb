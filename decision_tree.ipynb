{
 "cells": [
  {
   "cell_type": "code",
   "execution_count": 3,
   "id": "complex-australia",
   "metadata": {},
   "outputs": [],
   "source": [
    "import numpy as np\n",
    "import math"
   ]
  },
  {
   "cell_type": "code",
   "execution_count": 39,
   "id": "descending-candy",
   "metadata": {},
   "outputs": [],
   "source": [
    "def entropy(ps, i = ''):\n",
    "    #print('H'+i+' = ' + ' + '.join([f'-{p}*log2({p})' for p in ps]))\n",
    "    es = [0 if not p else -p*math.log2(p) for p in ps]\n",
    "    entr = np.sum(es)\n",
    "    print('H'+i+' = ' + ' + '.join([f'-{p}*log2({p})' for p in ps]) + f'= {entr:.4g}')\n",
    "\n",
    "    #print('= ' + ' + '.join([f'{e:.4g}' for e in es]) + f' = {entr:.4g}')\n",
    "    return entr\n",
    "\n",
    "def info_gain(p_class, p_features_class, feature_value, p_feature, feature_name, class_name):   \n",
    "    text = 'MeanInfo' + '(' + feature_name + ') = '\n",
    "    mean_info = 0\n",
    "    entropy_class = entropy(p_class, '(' + class_name + ')')\n",
    "    for i in range(len(feature_value)):\n",
    "        mean_info += p_feature[i] * entropy(p_features_class[i], '(' + feature_value[i] + ')')\n",
    "        text += '+ P(' + feature_value[i] + ')*H(' + feature_value[i] + ') '\n",
    "    print(f'{text} = {mean_info:.4g} ')\n",
    "    print(f'IG({feature_name}|{class_name}) = H({class_name}) - MeanInfo = {entropy_class - mean_info:.4g}\\n')\n",
    "    return entropy_class - mean_info\n",
    "\n",
    "def gain_ratio(info_gain, p_feature, feature_name, class_name):\n",
    "    entropy_class = entropy(p_feature, '(' + feature_name + ')')\n",
    "    print(f'GR({feature_name}|{class_name}) = IG({feature_name}|{class_name})/H({feature_name}) = {info_gain/entropy_class: .4g}')\n",
    "    return \n",
    "    "
   ]
  },
  {
   "cell_type": "code",
   "execution_count": 40,
   "id": "enclosed-chambers",
   "metadata": {},
   "outputs": [
    {
     "name": "stdout",
     "output_type": "stream",
     "text": [
      "H(Play) = -0.6428571428571429*log2(0.6428571428571429) + -0.35714285714285715*log2(0.35714285714285715)= 0.9403\n",
      "H(sunny) = -0.4*log2(0.4) + -0.6*log2(0.6)= 0.971\n",
      "H(overcast) = -1*log2(1) + -0*log2(0)= 0\n",
      "H(rainy) = -0.6*log2(0.6) + -0.4*log2(0.4)= 0.971\n",
      "MeanInfo(Outlook) = + P(sunny)*H(sunny) + P(overcast)*H(overcast) + P(rainy)*H(rainy)  = 0.6935 \n",
      "IG(Outlook|Play) = H(Play) - MeanInfo = 0.2467\n",
      "\n",
      "H(Outlook) = -0.35714285714285715*log2(0.35714285714285715) + -0.2857142857142857*log2(0.2857142857142857) + -0.35714285714285715*log2(0.35714285714285715)= 1.577\n",
      "GR(Outlook|Play) = IG(Outlook|Play)/H(Outlook) =  0.1564\n"
     ]
    }
   ],
   "source": [
    "\"\"\"Testing example from slides\"\"\"\n",
    "p_class = [9/14, 5/14]\n",
    "p_features_class = [[2/5, 3/5], [1, 0], [3/5, 2/5]]\n",
    "feature_name = 'Outlook'\n",
    "class_name = 'Play'\n",
    "feature_value = ['sunny', 'overcast', 'rainy']\n",
    "\n",
    "p_feature = [5/14, 4/14, 5/14]\n",
    "\n",
    "ig = info_gain(p_class, p_features_class, feature_value, p_feature, feature_name, class_name)\n",
    "\n",
    "gain_ratio(ig, p_feature, feature_name, class_name)"
   ]
  },
  {
   "cell_type": "code",
   "execution_count": 41,
   "id": "invisible-control",
   "metadata": {},
   "outputs": [
    {
     "name": "stdout",
     "output_type": "stream",
     "text": [
      "H(Class) = -0.5*log2(0.5) + -0.5*log2(0.5)= 1\n",
      "H(True) = -0.4*log2(0.4) + -0.6*log2(0.6)= 0.971\n",
      "H(False) = -0.6*log2(0.6) + -0.4*log2(0.4)= 0.971\n",
      "MeanInfo(A1) = + P(True)*H(True) + P(False)*H(False)  = 0.971 \n",
      "IG(A1|Class) = H(Class) - MeanInfo = 0.02905\n",
      "\n",
      "H(A1) = -0.5*log2(0.5) + -0.5*log2(0.5)= 1\n",
      "GR(A1|Class) = IG(A1|Class)/H(A1) =  0.02905\n"
     ]
    }
   ],
   "source": [
    "\"\"\"Testing example from past exam _ 2020\"\"\"\n",
    "p_class = [0.5, 0.5]\n",
    "p_features_class = [[0.4, 0.6], [0.6, 0.4]]\n",
    "feature_name = 'A1'\n",
    "class_name = 'Class'\n",
    "feature_value = ['True', 'False']\n",
    "\n",
    "p_feature = [0.5, 0.5]\n",
    "\n",
    "ig = info_gain(p_class, p_features_class, feature_value, p_feature, feature_name, class_name)\n",
    "\n",
    "gain_ratio(ig, p_feature, feature_name, class_name)"
   ]
  },
  {
   "cell_type": "code",
   "execution_count": null,
   "id": "subtle-frank",
   "metadata": {},
   "outputs": [],
   "source": []
  }
 ],
 "metadata": {
  "kernelspec": {
   "display_name": "Python 3",
   "language": "python",
   "name": "python3"
  },
  "language_info": {
   "codemirror_mode": {
    "name": "ipython",
    "version": 3
   },
   "file_extension": ".py",
   "mimetype": "text/x-python",
   "name": "python",
   "nbconvert_exporter": "python",
   "pygments_lexer": "ipython3",
   "version": "3.8.3"
  }
 },
 "nbformat": 4,
 "nbformat_minor": 5
}
