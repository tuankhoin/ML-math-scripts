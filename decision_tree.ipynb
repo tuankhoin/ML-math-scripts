{
 "cells": [
  {
   "cell_type": "code",
   "execution_count": 40,
   "id": "complex-australia",
   "metadata": {},
   "outputs": [],
   "source": [
    "import numpy as np\n",
    "import math"
   ]
  },
  {
   "cell_type": "code",
   "execution_count": 38,
   "id": "descending-candy",
   "metadata": {},
   "outputs": [],
   "source": [
    "def entropy(ps, i = ''):\n",
    "    #print('H'+i+' = ' + ' + '.join([f'-{p}*log2({p})' for p in ps]))\n",
    "    es = [0 if not p else -p*math.log2(p) for p in ps]\n",
    "    entr = np.sum(es)\n",
    "    print('H'+i+' = ' + ' + '.join([f'-{p}*log2({p})' for p in ps]) + f'= {entr:.4g}')\n",
    "\n",
    "    #print('= ' + ' + '.join([f'{e:.4g}' for e in es]) + f' = {entr:.4g}')\n",
    "    return entr\n",
    "\n",
    "def info_gain(p_class, p_features_class, feature_value, p_feature, feature_name, class_name):   \n",
    "    text = 'MeanInfo' + '(' + feature_name + ') = '\n",
    "    mean_info = 0\n",
    "    entropy_class = entropy(p_class, '(' + class_name + ')')\n",
    "    for i in range(len(feature_value)):\n",
    "        mean_info += p_feature[i] * entropy(p_features_class[i], '(' + feature_value[i] + ')')\n",
    "        text += '+ P(' + feature_value[i] + ')*H(' + feature_value[i] + ') '\n",
    "    print(f'{text} = {mean_info:.4g} ')\n",
    "    print(f'IG({feature_name}|{class_name}) = H({class_name}) - MeanInfo = {entropy_class - mean_info:.4g}\\n')\n",
    "    return entropy_class - mean_info\n",
    "\n",
    "def gain_ratio(info_gain, p_feature, feature_name, class_name):\n",
    "    entropy_class = entropy(p_feature, '(' + feature_name + ')')\n",
    "    print(f'GR({feature_name}|{class_name}) = IG({feature_name}|{class_name})/H({feature_name}) = {info_gain/entropy_class: .4g}')\n",
    "    return \n",
    "    "
   ]
  },
  {
   "cell_type": "code",
   "execution_count": 45,
   "id": "invisible-control",
   "metadata": {},
   "outputs": [
    {
     "name": "stdout",
     "output_type": "stream",
     "text": [
      "H(Play) = -0.5*log2(0.5) + -0.5*log2(0.5)= 1\n",
      "H(Sunny) = -1*log2(1) + -0*log2(0)= 0\n",
      "H(Partly cloudy) = -1*log2(1) + -0*log2(0)= 0\n",
      "H(Overcast) = -1*log2(1) + -0*log2(0)= 0\n",
      "H(Heavy cloud) = -1*log2(1) + -0*log2(0)= 0\n",
      "H(Showers) = -0*log2(0) + -1*log2(1)= 0\n",
      "H(Rainy) = -0*log2(0) + -1*log2(1)= 0\n",
      "H(Hail) = -0*log2(0) + -1*log2(1)= 0\n",
      "H(Snow) = -0*log2(0) + -1*log2(1)= 0\n",
      "MeanInfo(Outlook) = + P(Sunny)*H(Sunny) + P(Partly cloudy)*H(Partly cloudy) + P(Overcast)*H(Overcast) + P(Heavy cloud)*H(Heavy cloud) + P(Showers)*H(Showers) + P(Rainy)*H(Rainy) + P(Hail)*H(Hail) + P(Snow)*H(Snow)  = 0 \n",
      "IG(Outlook|Play) = H(Play) - MeanInfo = 1\n",
      "\n",
      "H(Outlook) = -0.125*log2(0.125) + -0.125*log2(0.125) + -0.125*log2(0.125) + -0.125*log2(0.125) + -0.125*log2(0.125) + -0.125*log2(0.125) + -0.125*log2(0.125) + -0.125*log2(0.125)= 3\n",
      "GR(Outlook|Play) = IG(Outlook|Play)/H(Outlook) =  0.3333\n"
     ]
    }
   ],
   "source": [
    "\"\"\"Testing example from past exam _ 2020\"\"\"\n",
    "\n",
    "p_class = [0.5, 0.5]\n",
    "p_features_class = [[1, 0], [1, 0], [1, 0], [1, 0], [0, 1], [0, 1], [0, 1], [0, 1]]\n",
    "feature_name = 'Outlook'\n",
    "class_name = 'Play'\n",
    "feature_value = ['Sunny', 'Partly cloudy', 'Overcast', 'Heavy cloud', 'Showers', 'Rainy', 'Hail', 'Snow']\n",
    "\n",
    "p_feature = [0.125, 0.125, 0.125, 0.125, 0.125, 0.125, 0.125, 0.125]\n",
    "\n",
    "ig = info_gain(p_class, p_features_class, feature_value, p_feature, feature_name, class_name)\n",
    "\n",
    "gain_ratio(ig, p_feature, feature_name, class_name)"
   ]
  },
  {
   "cell_type": "code",
   "execution_count": 34,
   "id": "toxic-chile",
   "metadata": {},
   "outputs": [],
   "source": [
    "def chi_sq(observed_table):\n",
    "    print(f'Observed table = {observed_table}')\n",
    "    sum_row = []\n",
    "    sum_col = []\n",
    "    \n",
    "    for row in observed_table:\n",
    "        sum_row.append(sum(row))\n",
    "\n",
    "    for col in range(len(observed_table[0])):\n",
    "        sum_curr_col = 0\n",
    "        for row in observed_table:\n",
    "            sum_curr_col += row[col]\n",
    "        sum_col.append(sum_curr_col)\n",
    "    \n",
    "    num_instances = sum(sum_row)\n",
    "    \n",
    "    def exp(sum_1, sum_2, sum_all = num_instances):\n",
    "        return sum_1*sum_2/sum_all\n",
    "    \n",
    "    expected_table = [[exp(sum_row[0], sum_col[0]), exp(sum_row[0], sum_col[1])],\n",
    "                      [exp(sum_row[1], sum_col[0]), exp(sum_row[1], sum_col[1])]]\n",
    "    print(f'Expected table =  {expected_table}')\n",
    "    \n",
    "    chi = 0\n",
    "    text = ''\n",
    "    for i in range(len(observed_table)):\n",
    "        for j in range(len(observed_table[0])):\n",
    "            text += f' + ({observed_table[i][j]} - {expected_table[i][j]})^2/{expected_table[i][j]}'\n",
    "            chi += (observed_table[i][j] - expected_table[i][j])**2/expected_table[i][j]\n",
    "\n",
    "    print(f'Chi squared = {text} = {chi}')"
   ]
  },
  {
   "cell_type": "code",
   "execution_count": 36,
   "id": "subtle-frank",
   "metadata": {},
   "outputs": [
    {
     "name": "stdout",
     "output_type": "stream",
     "text": [
      "Observed table = [[3, 2], [2, 3]]\n",
      "Expected table =  [[2.5, 2.5], [2.5, 2.5]]\n",
      "Chi squared =  + (3 - 2.5)^2/2.5 + (2 - 2.5)^2/2.5 + (2 - 2.5)^2/2.5 + (3 - 2.5)^2/2.5 = 0.4\n"
     ]
    }
   ],
   "source": [
    "\"\"\"Chi square\"\"\"\n",
    "\n",
    "observed_table = [[3, 2], # first class\n",
    "              [2, 3] # second class\n",
    "              ]\n",
    "\n",
    "chi_sq(observed_table)"
   ]
  },
  {
   "cell_type": "code",
   "execution_count": null,
   "id": "gorgeous-shirt",
   "metadata": {},
   "outputs": [],
   "source": []
  }
 ],
 "metadata": {
  "kernelspec": {
   "display_name": "Python 3",
   "language": "python",
   "name": "python3"
  },
  "language_info": {
   "codemirror_mode": {
    "name": "ipython",
    "version": 3
   },
   "file_extension": ".py",
   "mimetype": "text/x-python",
   "name": "python",
   "nbconvert_exporter": "python",
   "pygments_lexer": "ipython3",
   "version": "3.8.3"
  }
 },
 "nbformat": 4,
 "nbformat_minor": 5
}
