{
 "metadata": {
  "language_info": {
   "codemirror_mode": {
    "name": "ipython",
    "version": 3
   },
   "file_extension": ".py",
   "mimetype": "text/x-python",
   "name": "python",
   "nbconvert_exporter": "python",
   "pygments_lexer": "ipython3",
   "version": "3.6.8"
  },
  "orig_nbformat": 2,
  "kernelspec": {
   "name": "python368jvsc74a57bd04621005da5c26ac209901ca167bf25025457b064ec855aea9ba97365ac8d4984",
   "display_name": "Python 3.6.8 64-bit"
  }
 },
 "nbformat": 4,
 "nbformat_minor": 2,
 "cells": [
  {
   "cell_type": "code",
   "execution_count": 1,
   "metadata": {},
   "outputs": [],
   "source": [
    "import numpy as np"
   ]
  },
  {
   "cell_type": "code",
   "execution_count": 2,
   "metadata": {},
   "outputs": [],
   "source": [
    "pi = np.array([0.5,0.5])\n",
    "# a_ij = a[i,j]\n",
    "a = np.array([[0.7, 0.3],[0.1, 0.9]])\n",
    "# b_i(o_j) = b[i,j]\n",
    "b = np.array([[0.05, 0.15, 0.80],[0.75, 0.15, 0.10]])\n",
    "states = ['hot','cold']\n",
    "observations = ['1 solo', '2 solos', '3 solos']\n",
    "\n",
    "input_seq = [2,2,0]"
   ]
  },
  {
   "cell_type": "code",
   "execution_count": 21,
   "metadata": {},
   "outputs": [
    {
     "output_type": "stream",
     "name": "stdout",
     "text": [
      "delta_1(hot) = 0.5 x 0.8 = 0.4\ndelta_1(cold) = 0.5 x 0.1 = 0.05\npsi_1(i) = 0 for all i \n\ndelta_2(hot) = max[0.4 x 0.7, 0.05 x 0.1] x 0.8 = 0.224\npsi_2(hot) = argmax[0.4 x 0.7, 0.05 x 0.1] = hot\n\ndelta_2(cold) = max[0.4 x 0.3, 0.05 x 0.9] x 0.1 = 0.012\npsi_2(cold) = argmax[0.4 x 0.3, 0.05 x 0.9] = hot\n\ndelta_3(hot) = max[0.224 x 0.7, 0.012 x 0.1] x 0.05 = 0.00784\npsi_3(hot) = argmax[0.224 x 0.7, 0.012 x 0.1] = hot\n\ndelta_3(cold) = max[0.224 x 0.3, 0.012 x 0.9] x 0.75 = 0.0504\npsi_3(cold) = argmax[0.224 x 0.3, 0.012 x 0.9] = hot\n\nP_best(3 solos, 3 solos, 1 solo|mu) = max(0.00784, 0.0504) = 0.0504\nq*_T = argmax(0.00784, 0.0504) = cold\n\nBacktrackng:\nq*_2 = psi_3(cold) = hot\nq*_1 = psi_2(hot) = hot\n\nSo the most probable sequence will be hot,hot,cold\n"
     ]
    }
   ],
   "source": [
    "T = len(input_seq)\n",
    "N = len(pi)\n",
    "\n",
    "# Initialisation\n",
    "alpha = [[pi[i]*b[i,input_seq[0]] for i in range(N)]]\n",
    "psi = [['' for i in range(N)]]\n",
    "print('\\n'.join([f'delta_1({states[i]:s}) = {pi[i]} x {b[i,input_seq[0]]} = {alpha[0][i]}' for i in range(N)]))\n",
    "print('psi_1(i) = 0 for all i \\n')\n",
    "\n",
    "# Induction\n",
    "for t in range(T-1):\n",
    "    temp_alpha = []\n",
    "    temp_psi = []\n",
    "    for i in range(N):\n",
    "        alpha_a = [alpha[t][j]*a[j,i] for j in range(N)]\n",
    "        s = np.max(alpha_a)\n",
    "        bi = b[i,input_seq[t+1]]\n",
    "        temp_psi.append(np.argmax(alpha_a))\n",
    "        temp_alpha.append(s*bi)\n",
    "        print(f'delta_{t+2:d}({states[i]:s}) = max[{alpha[t][0]:.7g} x {a[0,i]:.7g}, {alpha[t][1]:.7g} x {a[1,i]:.7g}] x {b[i,input_seq[t+1]]:.7g} = {temp_alpha[i]:.7g}')\n",
    "        print(f'psi_{t+2:d}({states[i]:s}) = argmax[{alpha[t][0]:.7g} x {a[0,i]:.7g}, {alpha[t][1]:.7g} x {a[1,i]:.7g}] = {states[temp_psi[i]]:s}\\n')\n",
    "    alpha.append(temp_alpha)\n",
    "    psi.append(temp_psi)\n",
    "\n",
    "# Termination\n",
    "q = []\n",
    "P_best = np.max(alpha[T-1])\n",
    "q = np.argmax(alpha[T-1])\n",
    "print(f'P_best('+ ', '.join([observations[i] for i in input_seq]) + f'|mu) = ' + 'max(' + ', '.join([f'{i:.7g}' for i in alpha[T-1]]) + f')' + f' = {P_best}')\n",
    "print(f'q*_T = ' + 'argmax(' + ', '.join([f'{i:.7g}' for i in alpha[T-1]]) + f')' + f' = {states[q]}\\n')\n",
    "\n",
    "print('Backtrackng:')\n",
    "qs = [0 for i in range(T)]\n",
    "qs[-1] = q\n",
    "for t in range(T-2,-1,-1):\n",
    "    qs[t] = psi[t+1][qs[t+1]]\n",
    "    print(f'q*_{t+1} = psi_{t+2}({states[qs[t+1]]:s}) = {states[qs[t]]:s}')\n",
    "\n",
    "print(f'\\nSo the most probable sequence will be ' + ','.join([states[i] for i in qs]))"
   ]
  }
 ]
}