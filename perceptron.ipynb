{
 "cells": [
  {
   "cell_type": "code",
   "execution_count": 76,
   "id": "behind-somewhere",
   "metadata": {},
   "outputs": [],
   "source": [
    "import numpy as np"
   ]
  },
  {
   "cell_type": "code",
   "execution_count": 87,
   "id": "numeric-ordering",
   "metadata": {},
   "outputs": [],
   "source": [
    "# initial weights\n",
    "weights = [0.2, -0.4, 0.1]\n",
    "\n",
    "# activation function\n",
    "activation_threshold = 0 # function = 1 if greater than threshold, = 0 otherwise\n",
    "\n",
    "x1 = np.array([0, 0, 1])\n",
    "x2 = np.array([0, 1, 1])\n",
    "y = np.array([0, 1, 1])\n",
    "\n",
    "bias = 1 * np.ones(len(y))\n",
    "\n",
    "eta = 0.2 #learning rate\n",
    "\n",
    "e_counter = 0\n",
    "x = []\n",
    "for i in range(len(y)): \n",
    "    row = [bias[i], x1[i], x2[i]]\n",
    "    x.append(row)    \n",
    "\n",
    "def step_pred(i, weights, x, activation_threshold):\n",
    "    result = 0\n",
    "    print_statement = 'wx+b (Row ' + str(i+1) + ') = '\n",
    "    for j in range(len(weights)):\n",
    "        print_statement += ' + ' + f'{weights[j]:.3g}' + ' * ' + f'{x[j]:.3g}'\n",
    "        result += weights[j] * x[j]\n",
    "    print_statement += ' = ' + f'{result:.3g}'\n",
    "    if result > activation_threshold:\n",
    "        print_statement += ' => y_predicted = 1 (' + ('correct)' if (result > activation_threshold)==y[i] else 'wrong)')\n",
    "        print(print_statement)\n",
    "        return 1\n",
    "    else:\n",
    "        print_statement += ' => y_predicted = 0 (' + ('correct)' if (result > activation_threshold)==y[i] else 'wrong)')\n",
    "        print(print_statement)\n",
    "        return 0"
   ]
  },
  {
   "cell_type": "code",
   "execution_count": 88,
   "id": "medium-commitment",
   "metadata": {},
   "outputs": [
    {
     "output_type": "stream",
     "name": "stdout",
     "text": [
      "wx+b (Row 1) =  + 0.2 * 1 + -0.4 * 0 + 0.1 * 0 = 0.2 => y_predicted = 1 (wrong)\nwx+b (Row 2) =  + 0.2 * 1 + -0.4 * 0 + 0.1 * 1 = 0.3 => y_predicted = 1 (correct)\nwx+b (Row 3) =  + 0.2 * 1 + -0.4 * 1 + 0.1 * 1 = -0.1 => y_predicted = 0 (wrong)\nAccuracy = 0.3333333333333333\n"
     ]
    }
   ],
   "source": [
    "\"\"\"Find accuracy of current perceptron\"\"\"\n",
    "\n",
    "total_count = 0\n",
    "correct_count = 0\n",
    "\n",
    "for i in range(len(y)):    \n",
    "    # different function changes here\n",
    "    y_pred = step_pred(i, weights, x[i], activation_threshold)\n",
    "    if y_pred == y[i]:\n",
    "        correct_count += 1\n",
    "    total_count += 1\n",
    "\n",
    "print('Accuracy = ' + str(correct_count/total_count))"
   ]
  },
  {
   "cell_type": "code",
   "execution_count": 89,
   "id": "strategic-antigua",
   "metadata": {},
   "outputs": [
    {
     "output_type": "stream",
     "name": "stdout",
     "text": [
      "Epoch 1\nwx+b (Row 1) =  + 0.2 * 1 + -0.4 * 0 + 0.1 * 0 = 0.2 => y_predicted = 1 (wrong)\nIncorrect prediction. Updating weights: \nw0 = 0.2 + 0.2*(0-1)*1.0 = 0\nw1 = -0.4 + 0.2*(0-1)*0 = -0.4\nw2 = 0.1 + 0.2*(0-1)*0 = 0.1\n\nwx+b (Row 2) =  + 0 * 1 + -0.4 * 0 + 0.1 * 1 = 0.1 => y_predicted = 1 (correct)\nwx+b (Row 3) =  + 0 * 1 + -0.4 * 1 + 0.1 * 1 = -0.3 => y_predicted = 0 (wrong)\nIncorrect prediction. Updating weights: \nw0 = 0.0 + 0.2*(1-0)*1.0 = 0.2\nw1 = -0.4 + 0.2*(1-0)*1 = -0.2\nw2 = 0.1 + 0.2*(1-0)*1 = 0.3\n\n"
     ]
    }
   ],
   "source": [
    "\"\"\"Train perceptron for one epoch\"\"\"\n",
    "e_counter += 1\n",
    "print(f'Epoch {e_counter}')\n",
    "for i in range(len(y)):\n",
    "    y_pred = step_pred(i, weights, x[i], activation_threshold)\n",
    "    if y_pred != y[i]:\n",
    "        print('Incorrect prediction. Updating weights: ')\n",
    "        for j in range(len(weights)):\n",
    "            w = weights[j] + eta * (y[i] - y_pred) * x[i][j]\n",
    "            #print('w' + str(j) + ' = ' + str(weights[j]) + ' + ' + str(eta) + ' * (' + str(y[i]) +'-' + str(y_pred) + ') * ' + str(x[i][j]) + ' = ' + str(weights[j] + eta * (y[i] - y_pred) * x[i][j]))\n",
    "            print(f'w{j} = {weights[j]} + {eta}*({y[i]}-{y_pred})*{x[i][j]} = {w:.3g}')\n",
    "            weights[j] = w\n",
    "        print('')"
   ]
  },
  {
   "cell_type": "code",
   "execution_count": null,
   "metadata": {},
   "outputs": [],
   "source": []
  }
 ],
 "metadata": {
  "kernelspec": {
   "name": "python368jvsc74a57bd04621005da5c26ac209901ca167bf25025457b064ec855aea9ba97365ac8d4984",
   "display_name": "Python 3.6.8 64-bit"
  },
  "language_info": {
   "codemirror_mode": {
    "name": "ipython",
    "version": 3
   },
   "file_extension": ".py",
   "mimetype": "text/x-python",
   "name": "python",
   "nbconvert_exporter": "python",
   "pygments_lexer": "ipython3",
   "version": "3.6.8"
  }
 },
 "nbformat": 4,
 "nbformat_minor": 5
}