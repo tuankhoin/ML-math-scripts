{
 "cells": [
  {
   "cell_type": "code",
   "execution_count": 1,
   "id": "behind-somewhere",
   "metadata": {},
   "outputs": [],
   "source": [
    "import numpy as np"
   ]
  },
  {
   "cell_type": "code",
   "execution_count": 88,
   "id": "numeric-ordering",
   "metadata": {},
   "outputs": [],
   "source": [
    "# initial weights\n",
    "weights = [0.2, -0.4, 0.1]\n",
    "\n",
    "# activation function\n",
    "activation_threshold = 0 # function = 1 if greater than threshold, = 0 otherwise\n",
    "\n",
    "x1 = np.array([0, 0, 1])\n",
    "x2 = np.array([0, 1, 1])\n",
    "y = np.array([0, 1, 1])\n",
    "\n",
    "bias = 1 * np.ones(len(y))\n",
    "\n",
    "eta = 0.2 #learning rate\n",
    "\n",
    "x = []\n",
    "for i in range(len(y)): \n",
    "    row = [bias[i], x1[i], x2[i]]\n",
    "    x.append(row)    \n",
    "\n",
    "def step_pred(i, weights, x, activation_threshold):\n",
    "    result = 0\n",
    "    print_statement = 'sigma ' + str(i) + ' = '\n",
    "    for i in range(len(weights)):\n",
    "        print_statement += ' + ' + str(weights[i]) + ' * ' + str(x[i]) \n",
    "        result += weights[i] * x[i]\n",
    "    print_statement += ' = ' + str(result)\n",
    "    if result > activation_threshold:\n",
    "        print_statement += ' => pred = 1'\n",
    "        print(print_statement)\n",
    "        return 1\n",
    "    else:\n",
    "        print_statement += ' => pred = 0'\n",
    "        print(print_statement)\n",
    "        return 0"
   ]
  },
  {
   "cell_type": "code",
   "execution_count": 89,
   "id": "medium-commitment",
   "metadata": {},
   "outputs": [
    {
     "name": "stdout",
     "output_type": "stream",
     "text": [
      "sigma 0 =  + 0.2 * 1.0 + -0.4 * 0 + 0.1 * 0 = 0.2 => pred = 1\n",
      "sigma 1 =  + 0.2 * 1.0 + -0.4 * 0 + 0.1 * 1 = 0.30000000000000004 => pred = 1\n",
      "sigma 2 =  + 0.2 * 1.0 + -0.4 * 1 + 0.1 * 1 = -0.1 => pred = 0\n",
      "Accuracy = 0.3333333333333333\n"
     ]
    }
   ],
   "source": [
    "\"\"\"Find accuracy of current perceptron\"\"\"\n",
    "\n",
    "total_count = 0\n",
    "correct_count = 0\n",
    "\n",
    "for i in range(len(y)):    \n",
    "    # different function changes here\n",
    "    y_pred = step_pred(i, weights, x[i], activation_threshold)\n",
    "    if y_pred == y[i]:\n",
    "        correct_count += 1\n",
    "    total_count += 1\n",
    "\n",
    "print('Accuracy = ' + str(correct_count/total_count))"
   ]
  },
  {
   "cell_type": "code",
   "execution_count": 90,
   "id": "strategic-antigua",
   "metadata": {},
   "outputs": [
    {
     "name": "stdout",
     "output_type": "stream",
     "text": [
      "sigma 0 =  + 0.2 * 1.0 + -0.4 * 0 + 0.1 * 0 = 0.2 => pred = 1\n",
      "Update weights: \n",
      "w0 = 0.2 + 0.2 * (0 - 1) * 1.0 = 0.0\n",
      "w1 = -0.4 + 0.2 * (0 - 1) * 0 = -0.4\n",
      "w2 = 0.1 + 0.2 * (0 - 1) * 0 = 0.1\n",
      "\n",
      "sigma 1 =  + 0.0 * 1.0 + -0.4 * 0 + 0.1 * 1 = 0.1 => pred = 1\n",
      "sigma 2 =  + 0.0 * 1.0 + -0.4 * 1 + 0.1 * 1 = -0.30000000000000004 => pred = 0\n",
      "Update weights: \n",
      "w0 = 0.0 + 0.2 * (1 - 0) * 1.0 = 0.2\n",
      "w1 = -0.4 + 0.2 * (1 - 0) * 1 = -0.2\n",
      "w2 = 0.1 + 0.2 * (1 - 0) * 1 = 0.30000000000000004\n",
      "\n"
     ]
    }
   ],
   "source": [
    "\"\"\"Train perceptron for one epoch\"\"\"\n",
    "\n",
    "for i in range(len(y)):\n",
    "    y_pred = step_pred(i, weights, x[i], activation_threshold)\n",
    "    if y_pred != y[i]:\n",
    "        print('Update weights: ')\n",
    "        for j in range(len(weights)):\n",
    "            print('w' + str(j) + ' = ' + str(weights[j]) + ' + ' + str(eta) + ' * (' + str(y[i]) +' - ' + str(y_pred) + ') * ' + str(x[i][j]) + ' = ' + str(weights[j] + eta * (y[i] - y_pred) * x[i][j]))\n",
    "            weights[j] = weights[j] + eta * (y[i] - y_pred) * x[i][j]\n",
    "        print('')"
   ]
  },
  {
   "cell_type": "code",
   "execution_count": null,
   "id": "early-training",
   "metadata": {},
   "outputs": [],
   "source": []
  }
 ],
 "metadata": {
  "kernelspec": {
   "display_name": "Python 3",
   "language": "python",
   "name": "python3"
  },
  "language_info": {
   "codemirror_mode": {
    "name": "ipython",
    "version": 3
   },
   "file_extension": ".py",
   "mimetype": "text/x-python",
   "name": "python",
   "nbconvert_exporter": "python",
   "pygments_lexer": "ipython3",
   "version": "3.8.3"
  }
 },
 "nbformat": 4,
 "nbformat_minor": 5
}
