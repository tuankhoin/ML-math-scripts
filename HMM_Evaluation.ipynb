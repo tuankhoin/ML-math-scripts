{
 "metadata": {
  "language_info": {
   "codemirror_mode": {
    "name": "ipython",
    "version": 3
   },
   "file_extension": ".py",
   "mimetype": "text/x-python",
   "name": "python",
   "nbconvert_exporter": "python",
   "pygments_lexer": "ipython3",
   "version": "3.6.8"
  },
  "orig_nbformat": 2,
  "kernelspec": {
   "name": "python368jvsc74a57bd04621005da5c26ac209901ca167bf25025457b064ec855aea9ba97365ac8d4984",
   "display_name": "Python 3.6.8 64-bit"
  }
 },
 "nbformat": 4,
 "nbformat_minor": 2,
 "cells": [
  {
   "cell_type": "code",
   "execution_count": 26,
   "metadata": {},
   "outputs": [],
   "source": [
    "import numpy as np"
   ]
  },
  {
   "cell_type": "code",
   "execution_count": 27,
   "metadata": {},
   "outputs": [],
   "source": [
    "pi = np.array([0.5,0.5])\n",
    "# a_ij = a[i,j]\n",
    "a = np.array([[0.7, 0.3],[0.1, 0.9]])\n",
    "# b_i(o_j) = b[i,j]\n",
    "b = np.array([[0.05, 0.15, 0.80],[0.75, 0.15, 0.10]])\n",
    "states = ['hot','cold']\n",
    "observations = ['1 solo', '2 solos', '3 solos']\n",
    "\n",
    "input_seq = [2,2,0]"
   ]
  },
  {
   "cell_type": "code",
   "execution_count": 36,
   "metadata": {},
   "outputs": [
    {
     "output_type": "stream",
     "name": "stdout",
     "text": [
      "alpha_1(hot) = 0.5 x 0.8 = 0.4\nalpha_1(cold) = 0.5 x 0.1 = 0.05\nalpha_1(hot) = [0.4 x 0.7 + 0.05 x 0.1] x 0.8 = 0.228\nalpha_1(cold) = [0.4 x 0.3 + 0.05 x 0.9] x 0.1 = 0.0165\nalpha_2(hot) = [0.228 x 0.7 + 0.0165 x 0.1] x 0.05 = 0.0080625\nalpha_2(cold) = [0.228 x 0.3 + 0.0165 x 0.9] x 0.75 = 0.0624375\nP(3 solos, 3 solos, 1 solo|mu) = 0.0080625 + 0.0624375 = 0.0705\n"
     ]
    }
   ],
   "source": [
    "T = len(input_seq)\n",
    "N = len(pi)\n",
    "\n",
    "# Initialisation\n",
    "alpha = [[pi[i]*b[i,input_seq[0]] for i in range(N)]]\n",
    "print('\\n'.join([f'alpha_1({states[i]:s}) = {pi[i]} x {b[i,input_seq[0]]} = {alpha[0][i]}' for i in range(N)]))\n",
    "\n",
    "# Induction\n",
    "for t in range(T-1):\n",
    "    temp_alpha = []\n",
    "    for i in range(N):\n",
    "        alpha_a = [alpha[t][j]*a[j,i] for j in range(N)]\n",
    "        s = np.sum(alpha_a)\n",
    "        bi = b[i,input_seq[t+1]]\n",
    "        temp_alpha.append(s*bi)\n",
    "        print(f'alpha_{t+1:d}({states[i]:s}) = [{alpha[t][0]:.7g} x {a[0,i]:.7g} + {alpha[t][1]:.7g} x {a[1,i]:.7g}] x {b[i,input_seq[t+1]]:.7g} = {temp_alpha[i]:.7g}')\n",
    "    alpha.append(temp_alpha)\n",
    "\n",
    "# Termination\n",
    "res = np.sum(alpha[T-1])\n",
    "print(f'P('+ ', '.join([observations[i] for i in input_seq]) + f'|mu) = ' + ' + '.join([f'{i:.7g}' for i in alpha[T-1]]) + f' = {res}')"
   ]
  }
 ]
}