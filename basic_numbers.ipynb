{
 "cells": [
  {
   "cell_type": "code",
   "execution_count": 2,
   "metadata": {},
   "outputs": [],
   "source": [
    "import numpy as np\n",
    "import math\n",
    "from sklearn.metrics import classification_report"
   ]
  },
  {
   "cell_type": "markdown",
   "metadata": {},
   "source": [
    "## Micro/Macro Avg, percision, recall from Confusion Matrix"
   ]
  },
  {
   "cell_type": "code",
   "execution_count": 4,
   "metadata": {},
   "outputs": [
    {
     "name": "stdout",
     "output_type": "stream",
     "text": [
      "              precision    recall  f1-score   support\n",
      "\n",
      "        acro       0.74      0.70      0.72        40\n",
      "        base       0.43      0.50      0.47        20\n",
      "        claw       0.63      0.60      0.62        20\n",
      "\n",
      "    accuracy                           0.62        80\n",
      "   macro avg       0.60      0.60      0.60        80\n",
      "weighted avg       0.64      0.62      0.63        80\n",
      "\n"
     ]
    }
   ],
   "source": [
    "cfm = np.array([[28, 5, 7],\n",
    "                [10, 10, 0],\n",
    "                [0, 8, 12]\n",
    "                ])\n",
    "tn = ['acro','base','claw']\n",
    "\n",
    "l = len(cfm)\n",
    "ypred = np.array([])\n",
    "ytrue = np.array([])\n",
    "# Creating dummy ytrue, ypred for comparison. sklearn will do the rest of the job\n",
    "for i in range(l):\n",
    "    for j in range(l):\n",
    "        tmp = np.ones([cfm[i,j]])\n",
    "        ytrue = np.append(ytrue,i*tmp, axis = 0)\n",
    "        ypred = np.append(ypred,j*tmp, axis = 0)\n",
    "\n",
    "cfr = classification_report(ytrue, ypred,target_names=tn)\n",
    "print(cfr)"
   ]
  },
  {
   "cell_type": "code",
   "execution_count": 3,
   "metadata": {},
   "outputs": [],
   "source": [
    "def describe(i_vals, tn, cfm, beta=1):\n",
    "    l = len(tn)\n",
    "    for i in i_vals:\n",
    "        p = cfm[i,i]/np.sum(cfm[:,i])\n",
    "        print(f'Precision({tn[i]}) = {cfm[i,i]}/(' + '+'.join([f'{cfm[j,i]}' for j in range(l)]) + f') = {p:.4g}')\n",
    "        r = cfm[i,i]/np.sum(cfm[i,:])\n",
    "        print(f'Recall({tn[i]}) = {cfm[i,i]}/(' + '+'.join([f'{cfm[i,j]}' for j in range(l)]) + f') = {r:.4g}')\n",
    "        f = (1+beta**2)*p*r / (beta**2*p + r)\n",
    "        print(f'f_{beta}({tn[i]}) = (1+{beta**2})*{p:.4g}*{r:.4g} / ({beta**2}*{p:.4g} + {r:.4g}) = {f:.4g}')\n",
    "        print(f'Sensitivity({tn[i]}) = {cfm[i,i]}/(' + '+'.join([f'{cfm[i,j]}' for j in range(l)]) + f') = {r:.4g}')\n",
    "        TN = np.sum(cfm)+cfm[i,i]-np.sum(cfm[:,i])-np.sum(cfm[i,:])\n",
    "        total_neg = np.sum(cfm)-np.sum(cfm[i,:])\n",
    "        sp = TN/total_neg\n",
    "        print(f'Specificity({tn[i]}) = {TN}/(' + '+'.join([f'{np.sum(cfm[:,j])-cfm[i,j]}' for j in range(l)]) + f') = {sp:.4g}')\n",
    "        print('')\n",
    "\n",
    "#cfrd = classification_report(ytrue, ypred,target_names=tn, output_dict=True)\n",
    "#cfrd['bird']['recall']\n",
    "def avr(tn, cfm, beta=1):\n",
    "    l = len(tn)\n",
    "    tp = np.array([])\n",
    "    tpfp = np.array([])\n",
    "    tpfn = np.array([])\n",
    "    p = np.array([])\n",
    "    r = np.array([])\n",
    "    f = np.array([])\n",
    "    for i in range(l):\n",
    "        pe = cfm[i,i]/np.sum(cfm[:,i])\n",
    "        re = cfm[i,i]/np.sum(cfm[i,:])\n",
    "\n",
    "        tp = np.append(tp,[cfm[i,i]],axis=0)\n",
    "        tpfp = np.append(tpfp,[np.sum(cfm[:,i])],axis=0)\n",
    "        tpfn = np.append(tpfn,[np.sum(cfm[i,:])],axis=0)\n",
    "        p = np.append(p,[pe],axis=0)\n",
    "        r = np.append(r,[re],axis=0)\n",
    "\n",
    "    pM = np.sum(p)/l\n",
    "    rM = np.sum(r)/l\n",
    "    print(f'Percision_M = (' + '+'.join([f'{pe:.4g}' for pe in p]) + f')/{l} = {pM:.4g}')\n",
    "    print(f'Recall_M = (' + '+'.join([f'{re:.4g}' for re in r]) + f')/{l} = {rM:.4g}')\n",
    "    fM = (1+beta**2)*pM*rM / (beta**2*pM + rM)\n",
    "    print(f'f_{beta}M = (1+{beta**2})*{pM:.4g}*{rM:.4g} / ({beta**2}*{pM:.4g} + {rM:.4g}) = {fM:.4g}')\n",
    "    print('')\n",
    "\n",
    "    pmu = np.sum(tp)/np.sum(tpfp)\n",
    "    rmu = np.sum(tp)/np.sum(tpfn)\n",
    "    print(f'Percision_mu = (' + '+'.join([f'{t:.4g}' for t in tp]) + f') / ('+'+'.join([f'{t:.4g}' for t in tpfp]) + f') = {pmu:.4g}')\n",
    "    print(f'Recall_mu = (' + '+'.join([f'{t:.4g}' for t in tp]) + f') / ('+'+'.join([f'{t:.4g}' for t in tpfn]) + f') = {rmu:.4g}')\n",
    "    fmu = (1+beta**2)*pmu*rmu / (beta**2*pmu + rmu)\n",
    "    print(f'f_{beta}mu = (1+{beta**2})*{pmu:.4g}*{rmu:.4g} / ({beta**2}*{pmu:.4g} + {rmu:.4g}) = {fmu:.4g}')\n",
    "    print('')\n",
    "    \n",
    "    w = np.array([np.sum(cfm[i,:])/np.sum(cfm) for i in range(l)])\n",
    "    pw = np.sum([p[i]*w[i] for i in range(l)])\n",
    "    rw = np.sum([r[i]*w[i] for i in range(l)])\n",
    "    print(f'Percision_w = ' + ' + '.join([f'{p[i]:.4g}*{w[i]:.4g}' for i in range(l)]) + f'  = {pw:.4g}')\n",
    "    print(f'Recall_w = ' + ' + '.join([f'{r[i]:.4g}*{w[i]:.4g}' for i in range(l)]) + f' = {rw:.4g}')\n",
    "    fw = (1+beta**2)*pw*rw / (beta**2*pw + rw)\n",
    "    print(f'f_{beta}w = (1+{beta**2})*{pw:.4g}*{rw:.4g} / ({beta**2}*{pw:.4g} + {rw:.4g}) = {fw:.4g}')\n",
    "    #print('')"
   ]
  },
  {
   "cell_type": "code",
   "execution_count": 7,
   "metadata": {},
   "outputs": [
    {
     "name": "stdout",
     "output_type": "stream",
     "text": [
      "Precision(acro) = 28/(28+10+0) = 0.7368\n",
      "Recall(acro) = 28/(28+5+7) = 0.7\n",
      "f_1(acro) = (1+1)*0.7368*0.7 / (1*0.7368 + 0.7) = 0.7179\n",
      "Sensitivity(acro) = 28/(28+5+7) = 0.7\n",
      "Specificity(acro) = 30/(10+18+12) = 0.75\n",
      "\n",
      "Precision(base) = 10/(5+10+8) = 0.4348\n",
      "Recall(base) = 10/(10+10+0) = 0.5\n",
      "f_1(base) = (1+1)*0.4348*0.5 / (1*0.4348 + 0.5) = 0.4651\n",
      "Sensitivity(base) = 10/(10+10+0) = 0.5\n",
      "Specificity(base) = 47/(28+13+19) = 0.7833\n",
      "\n",
      "Precision(claw) = 12/(7+0+12) = 0.6316\n",
      "Recall(claw) = 12/(0+8+12) = 0.6\n",
      "f_1(claw) = (1+1)*0.6316*0.6 / (1*0.6316 + 0.6) = 0.6154\n",
      "Sensitivity(claw) = 12/(0+8+12) = 0.6\n",
      "Specificity(claw) = 53/(38+15+7) = 0.8833\n",
      "\n"
     ]
    }
   ],
   "source": [
    "describe([0,1,2],tn,cfm)"
   ]
  },
  {
   "cell_type": "code",
   "execution_count": 8,
   "metadata": {},
   "outputs": [
    {
     "name": "stdout",
     "output_type": "stream",
     "text": [
      "Percision_M = (0.7368+0.4348+0.6316)/3 = 0.6011\n",
      "Recall_M = (0.7+0.5+0.6)/3 = 0.6\n",
      "f_1M = (1+1)*0.6011*0.6 / (1*0.6011 + 0.6) = 0.6005\n",
      "\n",
      "Percision_mu = (28+10+12) / (38+23+19) = 0.625\n",
      "Recall_mu = (28+10+12) / (40+20+20) = 0.625\n",
      "f_1mu = (1+1)*0.625*0.625 / (1*0.625 + 0.625) = 0.625\n",
      "\n",
      "Percision_w = 0.7368*0.5 + 0.4348*0.25 + 0.6316*0.25  = 0.635\n",
      "Recall_w = 0.7*0.5 + 0.5*0.25 + 0.6*0.25 = 0.625\n",
      "f_1w = (1+1)*0.635*0.625 / (1*0.635 + 0.625) = 0.63\n"
     ]
    }
   ],
   "source": [
    "avr(tn,cfm)"
   ]
  },
  {
   "cell_type": "markdown",
   "metadata": {},
   "source": [
    "## Bayes Rule"
   ]
  },
  {
   "cell_type": "code",
   "execution_count": 3,
   "metadata": {},
   "outputs": [
    {
     "name": "stdout",
     "output_type": "stream",
     "text": [
      "0.2\n"
     ]
    }
   ],
   "source": [
    "# Calculating P(A|B)\n",
    "\n",
    "#P(A) - Prior\n",
    "pa = 0.22\n",
    "#P(B) - Prior of evidence\n",
    "pb = 0.2\n",
    "#P(B|A) - Posterior\n",
    "pba = 0.02\n",
    "\n",
    "pab = pba*pa/pb\n",
    "print(pb)"
   ]
  },
  {
   "cell_type": "markdown",
   "metadata": {},
   "source": [
    "## Entropy"
   ]
  },
  {
   "cell_type": "code",
   "execution_count": 4,
   "metadata": {},
   "outputs": [],
   "source": [
    "def entropy(ps, i = ''):\n",
    "    print('H'+i+' = ' + ' + '.join([f'-{p}*log2({p})' for p in ps]))\n",
    "    es = [0 if not p else -p*math.log2(p) for p in ps]\n",
    "    entr = np.sum(es)\n",
    "    print('= ' + ' + '.join([f'{e:.4g}' for e in es]) + f' = {entr:.4g}')\n",
    "    return entr"
   ]
  },
  {
   "cell_type": "code",
   "execution_count": 7,
   "metadata": {},
   "outputs": [
    {
     "name": "stdout",
     "output_type": "stream",
     "text": [
      "H = -0.6*log2(0.6) + -0.4*log2(0.4)\n",
      "= 0.4422 + 0.5288 = 0.971\n"
     ]
    },
    {
     "data": {
      "text/plain": [
       "0.9709505944546686"
      ]
     },
     "execution_count": 7,
     "metadata": {},
     "output_type": "execute_result"
    }
   ],
   "source": [
    "ps = [0.6,0.4]\n",
    "entropy(ps)"
   ]
  },
  {
   "cell_type": "markdown",
   "metadata": {},
   "source": [
    "## Normal/Gaussian Distribution"
   ]
  },
  {
   "cell_type": "code",
   "execution_count": 6,
   "metadata": {},
   "outputs": [
    {
     "data": {
      "text/plain": [
       "0.03217745087668464"
      ]
     },
     "execution_count": 6,
     "metadata": {},
     "output_type": "execute_result"
    }
   ],
   "source": [
    "\"\"\"\n",
    "Calculates the probability that event X occurs based on probability density function\n",
    "\"\"\"\n",
    "pdf = lambda mu, sigma, x: math.exp(-((x-mu)/sigma)**2/2)/(sigma*2*math.pi)\n",
    "\n",
    "pdf(1,3,4)"
   ]
  }
 ],
 "metadata": {
  "kernelspec": {
   "display_name": "Python 3",
   "language": "python",
   "name": "python3"
  },
  "language_info": {
   "codemirror_mode": {
    "name": "ipython",
    "version": 3
   },
   "file_extension": ".py",
   "mimetype": "text/x-python",
   "name": "python",
   "nbconvert_exporter": "python",
   "pygments_lexer": "ipython3",
   "version": "3.8.3"
  }
 },
 "nbformat": 4,
 "nbformat_minor": 2
}
