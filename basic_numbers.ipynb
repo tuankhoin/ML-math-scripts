{
 "metadata": {
  "language_info": {
   "codemirror_mode": {
    "name": "ipython",
    "version": 3
   },
   "file_extension": ".py",
   "mimetype": "text/x-python",
   "name": "python",
   "nbconvert_exporter": "python",
   "pygments_lexer": "ipython3",
   "version": "3.6.8"
  },
  "orig_nbformat": 2,
  "kernelspec": {
   "name": "python368jvsc74a57bd04621005da5c26ac209901ca167bf25025457b064ec855aea9ba97365ac8d4984",
   "display_name": "Python 3.6.8 64-bit"
  }
 },
 "nbformat": 4,
 "nbformat_minor": 2,
 "cells": [
  {
   "cell_type": "code",
   "execution_count": 1,
   "metadata": {},
   "outputs": [],
   "source": [
    "import numpy as np\n",
    "import math\n",
    "from sklearn.metrics import classification_report"
   ]
  },
  {
   "source": [
    "## Micro/Macro Avg, percision, recall from Confusion Matrix"
   ],
   "cell_type": "markdown",
   "metadata": {}
  },
  {
   "cell_type": "code",
   "execution_count": 11,
   "metadata": {},
   "outputs": [
    {
     "output_type": "stream",
     "name": "stdout",
     "text": [
      "              precision    recall  f1-score   support\n\n        bird       0.56      0.45      0.50        20\n         car       0.53      0.45      0.49        20\n         dog       0.55      0.55      0.55        20\n       horse       0.50      0.50      0.50        20\n        ship       0.52      0.70      0.60        20\n\n    accuracy                           0.53       100\n   macro avg       0.53      0.53      0.53       100\nweighted avg       0.53      0.53      0.53       100\n\n"
     ]
    }
   ],
   "source": [
    "cfm = np.array([[9,2,3,3,3],\n",
    "                [1,9,2,4,4],\n",
    "                [1,2,11,2,4],\n",
    "                [4,3,1,10,2],\n",
    "                [1,1,3,1,14]\n",
    "                ])\n",
    "tn = ['bird','car','dog','horse','ship']\n",
    "\n",
    "l = len(cfm)\n",
    "ypred = np.array([])\n",
    "ytrue = np.array([])\n",
    "# Creating dummy ytrue, ypred for comparison. sklearn will do the rest of the job\n",
    "for i in range(l):\n",
    "    for j in range(l):\n",
    "        tmp = np.ones([cfm[i,j]])\n",
    "        ytrue = np.append(ytrue,i*tmp, axis = 0)\n",
    "        ypred = np.append(ypred,j*tmp, axis = 0)\n",
    "\n",
    "cfr = classification_report(ytrue, ypred,target_names=tn)\n",
    "print(cfr)"
   ]
  },
  {
   "cell_type": "code",
   "execution_count": 22,
   "metadata": {},
   "outputs": [
    {
     "output_type": "execute_result",
     "data": {
      "text/plain": [
       "0.45"
      ]
     },
     "metadata": {},
     "execution_count": 22
    }
   ],
   "source": [
    "def describe(feature, cfr):\n",
    "    pass\n",
    "\n",
    "cfrd = classification_report(ytrue, ypred,target_names=tn, output_dict=True)\n",
    "cfrd['bird']['recall']"
   ]
  },
  {
   "source": [
    "## Bayes Rule"
   ],
   "cell_type": "markdown",
   "metadata": {}
  },
  {
   "cell_type": "code",
   "execution_count": 3,
   "metadata": {},
   "outputs": [
    {
     "output_type": "stream",
     "name": "stdout",
     "text": [
      "0.2\n"
     ]
    }
   ],
   "source": [
    "# Calculating P(A|B)\n",
    "\n",
    "#P(A) - Prior\n",
    "pa = 0.22\n",
    "#P(B) - Prior of evidence\n",
    "pb = 0.2\n",
    "#P(B|A) - Posterior\n",
    "pba = 0.02\n",
    "\n",
    "pab = pba*pa/pb\n",
    "print(pb)"
   ]
  },
  {
   "source": [
    "## Entropy"
   ],
   "cell_type": "markdown",
   "metadata": {}
  },
  {
   "cell_type": "code",
   "execution_count": 4,
   "metadata": {},
   "outputs": [],
   "source": [
    "def entropy(ps, i = ''):\n",
    "    print('H'+i+' = ' + ' + '.join([f'-{p}*log2({p})' for p in ps]))\n",
    "    es = [0 if not p else -p*math.log2(p) for p in ps]\n",
    "    entr = np.sum(es)\n",
    "    print('= ' + ' + '.join([f'{e:.4g}' for e in es]) + f' = {entr:.4g}')\n",
    "    return entr"
   ]
  },
  {
   "cell_type": "code",
   "execution_count": 7,
   "metadata": {},
   "outputs": [
    {
     "output_type": "stream",
     "name": "stdout",
     "text": [
      "H = -0.6*log2(0.6) + -0.4*log2(0.4)\n= 0.4422 + 0.5288 = 0.971\n"
     ]
    },
    {
     "output_type": "execute_result",
     "data": {
      "text/plain": [
       "0.9709505944546686"
      ]
     },
     "metadata": {},
     "execution_count": 7
    }
   ],
   "source": [
    "ps = [0.6,0.4]\n",
    "entropy(ps)"
   ]
  },
  {
   "source": [
    "## Normal/Gaussian Distribution"
   ],
   "cell_type": "markdown",
   "metadata": {}
  },
  {
   "cell_type": "code",
   "execution_count": 6,
   "metadata": {},
   "outputs": [
    {
     "output_type": "execute_result",
     "data": {
      "text/plain": [
       "0.03217745087668464"
      ]
     },
     "metadata": {},
     "execution_count": 6
    }
   ],
   "source": [
    "\"\"\"\n",
    "Calculates the probability that event X occurs based on probability density function\n",
    "\"\"\"\n",
    "pdf = lambda mu, sigma, x: math.exp(-((x-mu)/sigma)**2/2)/(sigma*2*math.pi)\n",
    "\n",
    "pdf(1,3,4)"
   ]
  }
 ]
}