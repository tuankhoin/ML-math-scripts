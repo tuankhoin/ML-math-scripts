{
 "metadata": {
  "language_info": {
   "codemirror_mode": {
    "name": "ipython",
    "version": 3
   },
   "file_extension": ".py",
   "mimetype": "text/x-python",
   "name": "python",
   "nbconvert_exporter": "python",
   "pygments_lexer": "ipython3",
   "version": "3.6.8"
  },
  "orig_nbformat": 2,
  "kernelspec": {
   "name": "python368jvsc74a57bd04621005da5c26ac209901ca167bf25025457b064ec855aea9ba97365ac8d4984",
   "display_name": "Python 3.6.8 64-bit"
  }
 },
 "nbformat": 4,
 "nbformat_minor": 2,
 "cells": [
  {
   "cell_type": "code",
   "execution_count": 1,
   "metadata": {},
   "outputs": [],
   "source": [
    "import numpy as np\n",
    "import math\n",
    "from sklearn.metrics import classification_report"
   ]
  },
  {
   "source": [
    "## Micro/Macro Avg, percision, recall from Confusion Matrix"
   ],
   "cell_type": "markdown",
   "metadata": {}
  },
  {
   "cell_type": "code",
   "execution_count": 11,
   "metadata": {},
   "outputs": [
    {
     "output_type": "stream",
     "name": "stdout",
     "text": [
      "              precision    recall  f1-score   support\n\n        bird       0.56      0.45      0.50        20\n         car       0.53      0.45      0.49        20\n         dog       0.55      0.55      0.55        20\n       horse       0.50      0.50      0.50        20\n        ship       0.52      0.70      0.60        20\n\n    accuracy                           0.53       100\n   macro avg       0.53      0.53      0.53       100\nweighted avg       0.53      0.53      0.53       100\n\n"
     ]
    }
   ],
   "source": [
    "cfm = np.array([[9,2,3,3,3],\n",
    "                [1,9,2,4,4],\n",
    "                [1,2,11,2,4],\n",
    "                [4,3,1,10,2],\n",
    "                [1,1,3,1,14]\n",
    "                ])\n",
    "tn = ['bird','car','dog','horse','ship']\n",
    "\n",
    "l = len(cfm)\n",
    "ypred = np.array([])\n",
    "ytrue = np.array([])\n",
    "# Creating dummy ytrue, ypred for comparison. sklearn will do the rest of the job\n",
    "for i in range(l):\n",
    "    for j in range(l):\n",
    "        tmp = np.ones([cfm[i,j]])\n",
    "        ytrue = np.append(ytrue,i*tmp, axis = 0)\n",
    "        ypred = np.append(ypred,j*tmp, axis = 0)\n",
    "\n",
    "cfr = classification_report(ytrue, ypred,target_names=tn)\n",
    "print(cfr)"
   ]
  },
  {
   "cell_type": "code",
   "execution_count": 60,
   "metadata": {},
   "outputs": [],
   "source": [
    "def describe(i_vals, tn, cfm, beta=1):\n",
    "    l = len(tn)\n",
    "    for i in i_vals:\n",
    "        p = cfm[i,i]/np.sum(cfm[:,i])\n",
    "        print(f'Precision({tn[i]}) = {cfm[i,i]}/(' + '+'.join([f'{cfm[j,i]}' for j in range(l)]) + f') = {p:.4g}')\n",
    "        r = cfm[i,i]/np.sum(cfm[i,:])\n",
    "        print(f'Recall({tn[i]}) = {cfm[i,i]}/(' + '+'.join([f'{cfm[i,j]}' for j in range(l)]) + f') = {r:.4g}')\n",
    "        f = (1+beta**2)*p*r / (beta**2*p + r)\n",
    "        print(f'f_{beta}({tn[i]}) = (1+{beta**2})*{p:.4g}*{r:.4g} / ({beta**2}*{p:.4g} + {r:.4g}) = {f:.4g}')\n",
    "        print(f'Sensitivity({tn[i]}) = {cfm[i,i]}/(' + '+'.join([f'{cfm[i,j]}' for j in range(l)]) + f') = {r:.4g}')\n",
    "        TN = np.sum(cfm)+cfm[i,i]-np.sum(cfm[:,i])-np.sum(cfm[i,:])\n",
    "        total_neg = np.sum(cfm)-np.sum(cfm[i,:])\n",
    "        sp = TN/total_neg\n",
    "        print(f'Specificity({tn[i]}) = {TN}/(' + '+'.join([f'{np.sum(cfm[:,j])-cfm[i,j]}' for j in range(l)]) + f') = {sp:.4g}')\n",
    "        print('')\n",
    "\n",
    "#cfrd = classification_report(ytrue, ypred,target_names=tn, output_dict=True)\n",
    "#cfrd['bird']['recall']\n",
    "def avr(tn, cfm, beta=1):\n",
    "    l = len(tn)\n",
    "    tp = np.array([])\n",
    "    tpfp = np.array([])\n",
    "    tpfn = np.array([])\n",
    "    p = np.array([])\n",
    "    r = np.array([])\n",
    "    f = np.array([])\n",
    "    for i in range(l):\n",
    "        pe = cfm[i,i]/np.sum(cfm[:,i])\n",
    "        re = cfm[i,i]/np.sum(cfm[i,:])\n",
    "\n",
    "        tp = np.append(tp,[cfm[i,i]],axis=0)\n",
    "        tpfp = np.append(tpfp,[np.sum(cfm[:,i])],axis=0)\n",
    "        tpfn = np.append(tpfn,[np.sum(cfm[i,:])],axis=0)\n",
    "        p = np.append(p,[pe],axis=0)\n",
    "        r = np.append(r,[re],axis=0)\n",
    "\n",
    "    pM = np.sum(p)/l\n",
    "    rM = np.sum(r)/l\n",
    "    print(f'Percision_M = (' + '+'.join([f'{pe:.4g}' for pe in p]) + f')/{l} = {pM:.4g}')\n",
    "    print(f'Recall_M = (' + '+'.join([f'{re:.4g}' for re in r]) + f')/{l} = {rM:.4g}')\n",
    "    fM = (1+beta**2)*pM*rM / (beta**2*pM + rM)\n",
    "    print(f'f_{beta}M = (1+{beta**2})*{pM:.4g}*{rM:.4g} / ({beta**2}*{pM:.4g} + {rM:.4g}) = {fM:.4g}')\n",
    "    print('')\n",
    "\n",
    "    pmu = np.sum(tp)/np.sum(tpfp)\n",
    "    rmu = np.sum(tp)/np.sum(tpfn)\n",
    "    print(f'Percision_mu = (' + '+'.join([f'{t:.4g}' for t in tp]) + f') / ('+'+'.join([f'{t:.4g}' for t in tpfp]) + f') = {pmu:.4g}')\n",
    "    print(f'Recall_mu = (' + '+'.join([f'{t:.4g}' for t in tp]) + f') / ('+'+'.join([f'{t:.4g}' for t in tpfn]) + f') = {rmu:.4g}')\n",
    "    fmu = (1+beta**2)*pmu*rmu / (beta**2*pmu + rmu)\n",
    "    print(f'f_{beta}mu = (1+{beta**2})*{pmu:.4g}*{rmu:.4g} / ({beta**2}*{pmu:.4g} + {rmu:.4g}) = {fmu:.4g}')\n",
    "    print('')\n",
    "    \n",
    "    w = np.array([np.sum(cfm[i,:])/np.sum(cfm) for i in range(l)])\n",
    "    pw = np.sum([p[i]*w[i] for i in range(l)])\n",
    "    rw = np.sum([r[i]*w[i] for i in range(l)])\n",
    "    print(f'Percision_w = ' + ' + '.join([f'{p[i]:.4g}*{w[i]:.4g}' for i in range(l)]) + f'  = {pw:.4g}')\n",
    "    print(f'Recall_w = ' + ' + '.join([f'{r[i]:.4g}*{w[i]:.4g}' for i in range(l)]) + f' = {rw:.4g}')\n",
    "    fw = (1+beta**2)*pw*rw / (beta**2*pw + rw)\n",
    "    print(f'f_{beta}w = (1+{beta**2})*{pw:.4g}*{rw:.4g} / ({beta**2}*{pw:.4g} + {rw:.4g}) = {fw:.4g}')\n",
    "    #print('')"
   ]
  },
  {
   "cell_type": "code",
   "execution_count": 62,
   "metadata": {},
   "outputs": [
    {
     "output_type": "stream",
     "name": "stdout",
     "text": [
      "Precision(bird) = 9/(9+1+1+4+1) = 0.5625\nRecall(bird) = 9/(9+2+3+3+3) = 0.45\nf_1(bird) = (1+1)*0.5625*0.45 / (1*0.5625 + 0.45) = 0.5\nSensitivity(bird) = 9/(9+2+3+3+3) = 0.45\nSpecificity(bird) = 73/(7+15+17+17+24) = 0.9125\n\nPrecision(ship) = 14/(3+4+4+2+14) = 0.5185\nRecall(ship) = 14/(1+1+3+1+14) = 0.7\nf_1(ship) = (1+1)*0.5185*0.7 / (1*0.5185 + 0.7) = 0.5957\nSensitivity(ship) = 14/(1+1+3+1+14) = 0.7\nSpecificity(ship) = 67/(15+16+17+19+13) = 0.8375\n\n"
     ]
    }
   ],
   "source": [
    "describe([0,4],tn,cfm)"
   ]
  },
  {
   "cell_type": "code",
   "execution_count": 61,
   "metadata": {},
   "outputs": [
    {
     "output_type": "stream",
     "name": "stdout",
     "text": [
      "Percision_M = (0.5625+0.5294+0.55+0.5+0.5185)/5 = 0.5321\nRecall_M = (0.45+0.45+0.55+0.5+0.7)/5 = 0.53\nf_1M = (1+1)*0.5321*0.53 / (1*0.5321 + 0.53) = 0.531\n\nPercision_mu = (9+9+11+10+14) / (16+17+20+20+27) = 0.53\nRecall_mu = (9+9+11+10+14) / (20+20+20+20+20) = 0.53\nf_1mu = (1+1)*0.53*0.53 / (1*0.53 + 0.53) = 0.53\n\nPercision_w = 0.5625*0.2 + 0.5294*0.2 + 0.55*0.2 + 0.5*0.2 + 0.5185*0.2  = 0.5321\nRecall_w = 0.45*0.2 + 0.45*0.2 + 0.55*0.2 + 0.5*0.2 + 0.7*0.2 = 0.53\nf_1w = (1+1)*0.5321*0.53 / (1*0.5321 + 0.53) = 0.531\n"
     ]
    }
   ],
   "source": [
    "avr(tn,cfm)"
   ]
  },
  {
   "source": [
    "## Bayes Rule"
   ],
   "cell_type": "markdown",
   "metadata": {}
  },
  {
   "cell_type": "code",
   "execution_count": 3,
   "metadata": {},
   "outputs": [
    {
     "output_type": "stream",
     "name": "stdout",
     "text": [
      "0.2\n"
     ]
    }
   ],
   "source": [
    "# Calculating P(A|B)\n",
    "\n",
    "#P(A) - Prior\n",
    "pa = 0.22\n",
    "#P(B) - Prior of evidence\n",
    "pb = 0.2\n",
    "#P(B|A) - Posterior\n",
    "pba = 0.02\n",
    "\n",
    "pab = pba*pa/pb\n",
    "print(pb)"
   ]
  },
  {
   "source": [
    "## Entropy"
   ],
   "cell_type": "markdown",
   "metadata": {}
  },
  {
   "cell_type": "code",
   "execution_count": 4,
   "metadata": {},
   "outputs": [],
   "source": [
    "def entropy(ps, i = ''):\n",
    "    print('H'+i+' = ' + ' + '.join([f'-{p}*log2({p})' for p in ps]))\n",
    "    es = [0 if not p else -p*math.log2(p) for p in ps]\n",
    "    entr = np.sum(es)\n",
    "    print('= ' + ' + '.join([f'{e:.4g}' for e in es]) + f' = {entr:.4g}')\n",
    "    return entr"
   ]
  },
  {
   "cell_type": "code",
   "execution_count": 7,
   "metadata": {},
   "outputs": [
    {
     "output_type": "stream",
     "name": "stdout",
     "text": [
      "H = -0.6*log2(0.6) + -0.4*log2(0.4)\n= 0.4422 + 0.5288 = 0.971\n"
     ]
    },
    {
     "output_type": "execute_result",
     "data": {
      "text/plain": [
       "0.9709505944546686"
      ]
     },
     "metadata": {},
     "execution_count": 7
    }
   ],
   "source": [
    "ps = [0.6,0.4]\n",
    "entropy(ps)"
   ]
  },
  {
   "source": [
    "## Normal/Gaussian Distribution"
   ],
   "cell_type": "markdown",
   "metadata": {}
  },
  {
   "cell_type": "code",
   "execution_count": 6,
   "metadata": {},
   "outputs": [
    {
     "output_type": "execute_result",
     "data": {
      "text/plain": [
       "0.03217745087668464"
      ]
     },
     "metadata": {},
     "execution_count": 6
    }
   ],
   "source": [
    "\"\"\"\n",
    "Calculates the probability that event X occurs based on probability density function\n",
    "\"\"\"\n",
    "pdf = lambda mu, sigma, x: math.exp(-((x-mu)/sigma)**2/2)/(sigma*2*math.pi)\n",
    "\n",
    "pdf(1,3,4)"
   ]
  }
 ]
}